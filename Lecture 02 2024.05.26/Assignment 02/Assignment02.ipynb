{
 "cells": [
  {
   "cell_type": "markdown",
   "id": "9b4bace6",
   "metadata": {},
   "source": [
    "# Assignment 02 - 2024.05.26\n",
    "\n",
    "### Question 01\n",
    "01) Write 5 Sentance display Matrix vector along with Vocabulary List?"
   ]
  },
  {
   "cell_type": "code",
   "execution_count": 1,
   "id": "8401d2a4",
   "metadata": {},
   "outputs": [],
   "source": [
    "from sklearn.feature_extraction.text import CountVectorizer"
   ]
  },
  {
   "cell_type": "code",
   "execution_count": 2,
   "id": "802636e2",
   "metadata": {},
   "outputs": [],
   "source": [
    "sentences = [\n",
    "    \"The cat sat on the mat.\",\n",
    "    \"The dog played with the ball.\",\n",
    "    \"I love to read books.\",\n",
    "    \"She enjoys listening to music.\",\n",
    "    \"We go for a walk in the park.\"\n",
    "]"
   ]
  },
  {
   "cell_type": "code",
   "execution_count": 3,
   "id": "5bd07c45",
   "metadata": {},
   "outputs": [
    {
     "name": "stdout",
     "output_type": "stream",
     "text": [
      "Matrix vector\n",
      "[[0 0 1 0 0 0 0 0 0 0 1 0 1 0 0 0 1 0 2 0 0 0 0]\n",
      " [1 0 0 1 0 0 0 0 0 0 0 0 0 0 1 0 0 0 2 0 0 0 1]\n",
      " [0 1 0 0 0 0 0 0 0 1 0 0 0 0 0 1 0 0 0 1 0 0 0]\n",
      " [0 0 0 0 1 0 0 0 1 0 0 1 0 0 0 0 0 1 0 1 0 0 0]\n",
      " [0 0 0 0 0 1 1 1 0 0 0 0 0 1 0 0 0 0 1 0 1 1 0]]\n"
     ]
    }
   ],
   "source": [
    "vectorizer = CountVectorizer()\n",
    "bow_matrix = vectorizer.fit_transform(sentences)\n",
    "print(\"Matrix vector\")\n",
    "print(bow_matrix.toarray())   "
   ]
  },
  {
   "cell_type": "markdown",
   "id": "1f1a6bdd",
   "metadata": {},
   "source": [
    "### Question 02\n",
    "02) Create a table reference slide #30 to Calculate TF-IDF?"
   ]
  },
  {
   "cell_type": "code",
   "execution_count": 4,
   "id": "f75ef557",
   "metadata": {},
   "outputs": [],
   "source": [
    "from sklearn.feature_extraction.text import CountVectorizer\n",
    "from sklearn.feature_extraction.text import TfidfTransformer"
   ]
  },
  {
   "cell_type": "code",
   "execution_count": 13,
   "id": "effd9597",
   "metadata": {},
   "outputs": [],
   "source": [
    "corpus = [\n",
    "    \"This is good and awesome\",\n",
    "    \"This is bad\"\n",
    "]"
   ]
  },
  {
   "cell_type": "code",
   "execution_count": 15,
   "id": "4e2dc402",
   "metadata": {},
   "outputs": [
    {
     "name": "stdout",
     "output_type": "stream",
     "text": [
      "TF-IDF Matrix\n",
      "[[0.49922133 0.49922133 0.         0.49922133 0.35520009 0.35520009]\n",
      " [0.         0.         0.70490949 0.         0.50154891 0.50154891]]\n",
      "\n",
      "Feature Names\n",
      "['and' 'awesome' 'bad' 'good' 'is' 'this']\n"
     ]
    }
   ],
   "source": [
    "vectorizer = CountVectorizer()\n",
    "bow_matrix = vectorizer.fit_transform(corpus)\n",
    "tfidf_transformer = TfidfTransformer()\n",
    "tfidf_matrix = tfidf_transformer.fit_transform(bow_matrix)\n",
    "print(\"TF-IDF Matrix\")\n",
    "print(tfidf_matrix.toarray())\n",
    "\n",
    "feature_names = vectorizer.get_feature_names_out()\n",
    "print(\"\\nFeature Names\")\n",
    "print(feature_names)"
   ]
  },
  {
   "cell_type": "code",
   "execution_count": null,
   "id": "7581a705",
   "metadata": {},
   "outputs": [],
   "source": []
  }
 ],
 "metadata": {
  "kernelspec": {
   "display_name": "Python 3 (ipykernel)",
   "language": "python",
   "name": "python3"
  },
  "language_info": {
   "codemirror_mode": {
    "name": "ipython",
    "version": 3
   },
   "file_extension": ".py",
   "mimetype": "text/x-python",
   "name": "python",
   "nbconvert_exporter": "python",
   "pygments_lexer": "ipython3",
   "version": "3.11.5"
  }
 },
 "nbformat": 4,
 "nbformat_minor": 5
}
