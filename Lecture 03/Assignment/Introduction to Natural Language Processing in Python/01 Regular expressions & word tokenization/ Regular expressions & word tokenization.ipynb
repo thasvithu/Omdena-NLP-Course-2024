{
 "cells": [
  {
   "cell_type": "markdown",
   "id": "e7f28b3b",
   "metadata": {},
   "source": [
    "# Regular Expressions\n",
    "- Regular expressions (regex) are sequences of characters that form search patterns used for matching and manipulating strings.\n",
    "- They are commonly used in text processing tasks to find, extract, replace, or split substrings within text based on specific patterns."
   ]
  },
  {
   "cell_type": "code",
   "execution_count": 3,
   "id": "cbacc2a9",
   "metadata": {},
   "outputs": [],
   "source": [
    "import re"
   ]
  },
  {
   "cell_type": "code",
   "execution_count": 4,
   "id": "67605d78",
   "metadata": {},
   "outputs": [],
   "source": [
    "my_string = \"Let's write RegEx!\""
   ]
  },
  {
   "cell_type": "code",
   "execution_count": 5,
   "id": "898fca93",
   "metadata": {},
   "outputs": [
    {
     "data": {
      "text/plain": [
       "['Let', 's', 'write', 'RegEx']"
      ]
     },
     "execution_count": 5,
     "metadata": {},
     "output_type": "execute_result"
    }
   ],
   "source": [
    "# Extract all words from a string\n",
    "re.findall(r\"\\w+\", my_string)"
   ]
  },
  {
   "cell_type": "code",
   "execution_count": 6,
   "id": "0c9ca7ce",
   "metadata": {},
   "outputs": [
    {
     "data": {
      "text/plain": [
       "['L', 'e', 't', 's', 'w', 'r', 'i', 't', 'e', 'R', 'e', 'g', 'E', 'x']"
      ]
     },
     "execution_count": 6,
     "metadata": {},
     "output_type": "execute_result"
    }
   ],
   "source": [
    "# Extract all single word characters from a string\n",
    "re.findall(r\"\\w\", my_string)"
   ]
  },
  {
   "cell_type": "code",
   "execution_count": 7,
   "id": "9b9f8641",
   "metadata": {},
   "outputs": [
    {
     "data": {
      "text/plain": [
       "[' ', ' ']"
      ]
     },
     "execution_count": 7,
     "metadata": {},
     "output_type": "execute_result"
    }
   ],
   "source": [
    "# Extract all sequences of whitespace characters from a string\n",
    "re.findall(r\"\\s+\", my_string)"
   ]
  },
  {
   "cell_type": "code",
   "execution_count": 8,
   "id": "48b67c9d",
   "metadata": {},
   "outputs": [
    {
     "data": {
      "text/plain": [
       "['e', 't', 's', 'w', 'r', 'i', 't', 'e', 'e', 'g', 'x']"
      ]
     },
     "execution_count": 8,
     "metadata": {},
     "output_type": "execute_result"
    }
   ],
   "source": [
    "# Extract all individual lowercase letters from a string\n",
    "re.findall(r\"[a-z]\", my_string)"
   ]
  },
  {
   "cell_type": "markdown",
   "id": "0a6c4969",
   "metadata": {},
   "source": [
    "#### Practicing regular expressions: re.split() and re.findall()\n",
    "- The re.split() function in Python is used to split a string by the occurrences of a pattern.\n",
    "- The re.findall() function in Python is used to find all occurrences of a pattern in a given string. It returns a list of all non-overlapping matches of the pattern in the string."
   ]
  },
  {
   "cell_type": "markdown",
   "id": "a1d40f5c",
   "metadata": {},
   "source": [
    "![q2](question2.png)"
   ]
  },
  {
   "cell_type": "code",
   "execution_count": 9,
   "id": "d1dd03fd",
   "metadata": {},
   "outputs": [
    {
     "name": "stdout",
     "output_type": "stream",
     "text": [
      "[\"Let's write RegEx\", '']\n"
     ]
    }
   ],
   "source": [
    "# Write a pattern to match sentence endings: sentence_endings\n",
    "sentence_endings = r\"[.?!]\"\n",
    "# Split my_string on sentence endings and print the result\n",
    "print(re.split(sentence_endings, my_string))"
   ]
  },
  {
   "cell_type": "code",
   "execution_count": 10,
   "id": "3979f0e8",
   "metadata": {},
   "outputs": [
    {
     "name": "stdout",
     "output_type": "stream",
     "text": [
      "['Let', 'RegEx']\n"
     ]
    }
   ],
   "source": [
    "# Find all capitalized words in my_string and print the result\n",
    "capitalized_words = r\"[A-Z]\\w+\"\n",
    "print(re.findall(capitalized_words, my_string))"
   ]
  },
  {
   "cell_type": "code",
   "execution_count": 11,
   "id": "eded4f42",
   "metadata": {},
   "outputs": [
    {
     "name": "stdout",
     "output_type": "stream",
     "text": [
      "[' ', ' ']\n"
     ]
    }
   ],
   "source": [
    "# Split my_string on spaces and print the result\n",
    "spaces = r\"\\s+\"\n",
    "print(re.findall(spaces, my_string))"
   ]
  },
  {
   "cell_type": "code",
   "execution_count": 12,
   "id": "7aec1280",
   "metadata": {},
   "outputs": [
    {
     "name": "stdout",
     "output_type": "stream",
     "text": [
      "[]\n"
     ]
    }
   ],
   "source": [
    "# Find all digits in my_string and print the result\n",
    "digits = r\"\\d+\"\n",
    "print(re.findall(digits, my_string))"
   ]
  },
  {
   "cell_type": "markdown",
   "id": "6afa9530",
   "metadata": {},
   "source": [
    "# Tokenization \n",
    "-  Breaking down a sentence into smaller pieces"
   ]
  },
  {
   "cell_type": "markdown",
   "id": "f4e3147a",
   "metadata": {},
   "source": [
    "![\"Question2\"](Question3.png)"
   ]
  },
  {
   "cell_type": "code",
   "execution_count": 13,
   "id": "d2eca9e1",
   "metadata": {},
   "outputs": [],
   "source": [
    "# Import necessary modules\n",
    "from nltk.tokenize import sent_tokenize\n",
    "from nltk.tokenize import word_tokenize"
   ]
  },
  {
   "cell_type": "code",
   "execution_count": 14,
   "id": "ccd6f5b0",
   "metadata": {},
   "outputs": [],
   "source": [
    "scene_one = \"Hello there! This is a test string. How are you today? I hope you are doing well.\""
   ]
  },
  {
   "cell_type": "code",
   "execution_count": 15,
   "id": "30408d98",
   "metadata": {
    "scrolled": true
   },
   "outputs": [
    {
     "data": {
      "text/plain": [
       "['Hello there!',\n",
       " 'This is a test string.',\n",
       " 'How are you today?',\n",
       " 'I hope you are doing well.']"
      ]
     },
     "execution_count": 15,
     "metadata": {},
     "output_type": "execute_result"
    }
   ],
   "source": [
    "# Split scene_one into sentences: sentences\n",
    "sentences = sent_tokenize(scene_one)\n",
    "sentences"
   ]
  },
  {
   "cell_type": "code",
   "execution_count": 16,
   "id": "e29cba2a",
   "metadata": {},
   "outputs": [
    {
     "data": {
      "text/plain": [
       "['l']"
      ]
     },
     "execution_count": 16,
     "metadata": {},
     "output_type": "execute_result"
    }
   ],
   "source": [
    "# Use word_tokenize to tokenize the fourth sentence: tokenized_sent\n",
    "tokenized_sent = word_tokenize(scene_one[3])\n",
    "tokenized_sent"
   ]
  },
  {
   "cell_type": "code",
   "execution_count": 17,
   "id": "2cffd35b",
   "metadata": {},
   "outputs": [
    {
     "data": {
      "text/plain": [
       "{'!',\n",
       " '.',\n",
       " '?',\n",
       " 'Hello',\n",
       " 'How',\n",
       " 'I',\n",
       " 'This',\n",
       " 'a',\n",
       " 'are',\n",
       " 'doing',\n",
       " 'hope',\n",
       " 'is',\n",
       " 'string',\n",
       " 'test',\n",
       " 'there',\n",
       " 'today',\n",
       " 'well',\n",
       " 'you'}"
      ]
     },
     "execution_count": 17,
     "metadata": {},
     "output_type": "execute_result"
    }
   ],
   "source": [
    "# Make a set of unique tokens in the entire scene: unique_tokens\n",
    "unique_tokens = set(word_tokenize(scene_one))\n",
    "unique_tokens"
   ]
  },
  {
   "cell_type": "markdown",
   "id": "d366698c",
   "metadata": {},
   "source": [
    "![Question4.png](Question4.png)"
   ]
  },
  {
   "cell_type": "code",
   "execution_count": 22,
   "id": "d61b1012",
   "metadata": {},
   "outputs": [],
   "source": [
    "# Search for the first occurrence of \"coconuts\" in scene_one: match\n",
    "match = re.search(\"coconuts\", scene_one)\n",
    "match"
   ]
  },
  {
   "cell_type": "code",
   "execution_count": 24,
   "id": "6dff0b15",
   "metadata": {},
   "outputs": [
    {
     "data": {
      "text/plain": [
       "<re.Match object; span=(36, 39), match='How'>"
      ]
     },
     "execution_count": 24,
     "metadata": {},
     "output_type": "execute_result"
    }
   ],
   "source": [
    "match = re.search(\"How\", scene_one)\n",
    "match"
   ]
  },
  {
   "cell_type": "code",
   "execution_count": 31,
   "id": "931d85e6",
   "metadata": {},
   "outputs": [
    {
     "data": {
      "text/plain": [
       "'How'"
      ]
     },
     "execution_count": 31,
     "metadata": {},
     "output_type": "execute_result"
    }
   ],
   "source": [
    "scene_one[36:39]"
   ]
  },
  {
   "cell_type": "code",
   "execution_count": 33,
   "id": "d700bfe9",
   "metadata": {},
   "outputs": [
    {
     "name": "stdout",
     "output_type": "stream",
     "text": [
      "36 39\n"
     ]
    }
   ],
   "source": [
    "# Print the start and end indexes of match\n",
    "print(match.start(), match.end())"
   ]
  },
  {
   "cell_type": "markdown",
   "id": "819db766",
   "metadata": {},
   "source": [
    "![Question4](Question5.png)"
   ]
  },
  {
   "cell_type": "code",
   "execution_count": 40,
   "id": "b4d3cd39",
   "metadata": {},
   "outputs": [],
   "source": [
    "my_string = \"Here is some text with [something] in brackets and [another thing] in brackets.\""
   ]
  },
  {
   "cell_type": "code",
   "execution_count": 46,
   "id": "7260737c",
   "metadata": {},
   "outputs": [
    {
     "data": {
      "text/plain": [
       "['[something] in brackets and [another thing]']"
      ]
     },
     "execution_count": 46,
     "metadata": {},
     "output_type": "execute_result"
    }
   ],
   "source": [
    "# Write a regular expression to search for anything in square brackets: pattern1\n",
    "pattern1 = r\"\\[.*\\]\"\n",
    "temp = re.findall(pattern1, my_string)\n",
    "temp"
   ]
  },
  {
   "cell_type": "code",
   "execution_count": 47,
   "id": "dea1e257",
   "metadata": {},
   "outputs": [
    {
     "name": "stdout",
     "output_type": "stream",
     "text": [
      "<re.Match object; span=(23, 66), match='[something] in brackets and [another thing]'>\n"
     ]
    }
   ],
   "source": [
    "# Use re.search to find the first text in square brackets\n",
    "print(re.search(pattern1, my_string))"
   ]
  },
  {
   "cell_type": "markdown",
   "id": "f5c1037c",
   "metadata": {},
   "source": [
    "![Question6.png](Question6.png)"
   ]
  },
  {
   "cell_type": "code",
   "execution_count": 48,
   "id": "07622428",
   "metadata": {},
   "outputs": [
    {
     "name": "stdout",
     "output_type": "stream",
     "text": [
      "None\n"
     ]
    }
   ],
   "source": [
    "# Find the script notation at the beginning of the fourth sentence and print it\n",
    "pattern2 = r\"[\\w\\s]+:\"\n",
    "print(re.match(pattern2, my_string[3]))"
   ]
  },
  {
   "cell_type": "code",
   "execution_count": 50,
   "id": "bd6ec2ae",
   "metadata": {},
   "outputs": [
    {
     "name": "stdout",
     "output_type": "stream",
     "text": [
      "None\n"
     ]
    }
   ],
   "source": [
    "print(re.match(pattern2, scene_one[3]))"
   ]
  },
  {
   "cell_type": "code",
   "execution_count": null,
   "id": "5b144373",
   "metadata": {},
   "outputs": [],
   "source": []
  }
 ],
 "metadata": {
  "kernelspec": {
   "display_name": "Python 3 (ipykernel)",
   "language": "python",
   "name": "python3"
  },
  "language_info": {
   "codemirror_mode": {
    "name": "ipython",
    "version": 3
   },
   "file_extension": ".py",
   "mimetype": "text/x-python",
   "name": "python",
   "nbconvert_exporter": "python",
   "pygments_lexer": "ipython3",
   "version": "3.11.5"
  }
 },
 "nbformat": 4,
 "nbformat_minor": 5
}
