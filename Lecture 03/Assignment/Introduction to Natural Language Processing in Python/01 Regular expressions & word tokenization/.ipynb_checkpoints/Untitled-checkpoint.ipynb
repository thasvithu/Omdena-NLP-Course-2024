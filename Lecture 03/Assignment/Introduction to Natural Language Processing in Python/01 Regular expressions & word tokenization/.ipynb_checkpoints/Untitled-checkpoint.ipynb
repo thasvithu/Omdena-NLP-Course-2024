{
 "cells": [
  {
   "cell_type": "markdown",
   "id": "6c191708",
   "metadata": {},
   "source": [
    "# Regular Expressions\n",
    "- Regular expressions (regex) are sequences of characters that form search patterns used for matching and manipulating strings.\n",
    "- They are commonly used in text processing tasks to find, extract, replace, or split substrings within text based on specific patterns."
   ]
  },
  {
   "cell_type": "code",
   "execution_count": 5,
   "id": "31cbeccf",
   "metadata": {},
   "outputs": [],
   "source": [
    "import re"
   ]
  },
  {
   "cell_type": "code",
   "execution_count": 20,
   "id": "612bfb96",
   "metadata": {},
   "outputs": [],
   "source": [
    "my_string = \"Let's write RegEx!\""
   ]
  },
  {
   "cell_type": "code",
   "execution_count": 22,
   "id": "58e80fe2",
   "metadata": {},
   "outputs": [
    {
     "data": {
      "text/plain": [
       "['Let', 's', 'write', 'RegEx']"
      ]
     },
     "execution_count": 22,
     "metadata": {},
     "output_type": "execute_result"
    }
   ],
   "source": [
    "# Extract all words from a string\n",
    "re.findall(r\"\\w+\", my_string)"
   ]
  },
  {
   "cell_type": "code",
   "execution_count": 23,
   "id": "2578c017",
   "metadata": {},
   "outputs": [
    {
     "data": {
      "text/plain": [
       "['L', 'e', 't', 's', 'w', 'r', 'i', 't', 'e', 'R', 'e', 'g', 'E', 'x']"
      ]
     },
     "execution_count": 23,
     "metadata": {},
     "output_type": "execute_result"
    }
   ],
   "source": [
    "# Extract all single word characters from a string\n",
    "re.findall(r\"\\w\", my_string)"
   ]
  },
  {
   "cell_type": "code",
   "execution_count": 17,
   "id": "a3aecf4d",
   "metadata": {},
   "outputs": [
    {
     "data": {
      "text/plain": [
       "[' ', ' ']"
      ]
     },
     "execution_count": 17,
     "metadata": {},
     "output_type": "execute_result"
    }
   ],
   "source": [
    "# Extract all sequences of whitespace characters from a string\n",
    "re.findall(r\"\\s+\", my_string)"
   ]
  },
  {
   "cell_type": "code",
   "execution_count": 18,
   "id": "d55c0f5c",
   "metadata": {},
   "outputs": [
    {
     "data": {
      "text/plain": [
       "['e', 't', 's', 'w', 'r', 'i', 't', 'e', 'e', 'g', 'x']"
      ]
     },
     "execution_count": 18,
     "metadata": {},
     "output_type": "execute_result"
    }
   ],
   "source": [
    "# Extract all individual lowercase letters from a string\n",
    "re.findall(r\"[a-z]\", my_string)"
   ]
  },
  {
   "cell_type": "code",
   "execution_count": null,
   "id": "72ab0a7b",
   "metadata": {},
   "outputs": [],
   "source": []
  }
 ],
 "metadata": {
  "kernelspec": {
   "display_name": "Python 3 (ipykernel)",
   "language": "python",
   "name": "python3"
  },
  "language_info": {
   "codemirror_mode": {
    "name": "ipython",
    "version": 3
   },
   "file_extension": ".py",
   "mimetype": "text/x-python",
   "name": "python",
   "nbconvert_exporter": "python",
   "pygments_lexer": "ipython3",
   "version": "3.11.5"
  }
 },
 "nbformat": 4,
 "nbformat_minor": 5
}
