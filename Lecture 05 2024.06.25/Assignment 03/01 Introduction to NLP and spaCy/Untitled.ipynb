{
 "cells": [
  {
   "cell_type": "markdown",
   "id": "a92b9f23",
   "metadata": {},
   "source": [
    "## Introduction to NLP and spaCy"
   ]
  },
  {
   "cell_type": "code",
   "execution_count": 3,
   "id": "4f4d05fe",
   "metadata": {},
   "outputs": [],
   "source": [
    "import spacy"
   ]
  },
  {
   "cell_type": "code",
   "execution_count": 7,
   "id": "df824f85",
   "metadata": {},
   "outputs": [],
   "source": [
    "# Load en_core_web_sm and create an nlp object\n",
    "nlp = spacy.load(\"en_core_web_sm\")"
   ]
  },
  {
   "cell_type": "code",
   "execution_count": 8,
   "id": "2f760113",
   "metadata": {},
   "outputs": [],
   "source": [
    "text = \"This is a sample text for demonstration.\""
   ]
  },
  {
   "cell_type": "code",
   "execution_count": 9,
   "id": "143e2666",
   "metadata": {},
   "outputs": [
    {
     "data": {
      "text/plain": [
       "This is a sample text for demonstration."
      ]
     },
     "execution_count": 9,
     "metadata": {},
     "output_type": "execute_result"
    }
   ],
   "source": [
    "# Create a Doc container for the text object\n",
    "doc = nlp(text)\n",
    "doc"
   ]
  },
  {
   "cell_type": "code",
   "execution_count": 10,
   "id": "1062212d",
   "metadata": {},
   "outputs": [
    {
     "name": "stdout",
     "output_type": "stream",
     "text": [
      "[This, is, a, sample, text, for, demonstration, .]\n"
     ]
    }
   ],
   "source": [
    "# Create a list containing the text of each token in the Doc container\n",
    "print([token for token in doc])"
   ]
  },
  {
   "cell_type": "markdown",
   "id": "00310c22",
   "metadata": {},
   "source": [
    "- ###### Tokenization with spaCy"
   ]
  },
  {
   "cell_type": "code",
   "execution_count": 1,
   "id": "a180b626",
   "metadata": {},
   "outputs": [],
   "source": [
    "import spacy"
   ]
  },
  {
   "cell_type": "code",
   "execution_count": 3,
   "id": "57125d5a",
   "metadata": {},
   "outputs": [],
   "source": [
    "nlp =  spacy.load(\"en_core_web_sm\")"
   ]
  },
  {
   "cell_type": "code",
   "execution_count": 4,
   "id": "5719156c",
   "metadata": {},
   "outputs": [],
   "source": [
    "text = \"I have bought several of the Vitality canned dog food products and have found them all to be of good quality. The product looks more like a stew than a processed meat and it smells better. My Labrador is finicky and she appreciates this product better than  most.\""
   ]
  },
  {
   "cell_type": "code",
   "execution_count": 5,
   "id": "9f9d0011",
   "metadata": {},
   "outputs": [],
   "source": [
    "doc = nlp(text)"
   ]
  },
  {
   "cell_type": "code",
   "execution_count": 15,
   "id": "49d0ab2a",
   "metadata": {},
   "outputs": [],
   "source": [
    "tokens = [token for token in doc]"
   ]
  },
  {
   "cell_type": "code",
   "execution_count": 16,
   "id": "0bd45239",
   "metadata": {},
   "outputs": [
    {
     "name": "stdout",
     "output_type": "stream",
     "text": [
      "[I, have, bought, several, of, the, Vitality, canned, dog, food, products, and, have, found, them, all, to, be, of, good, quality, ., The, product, looks, more, like, a, stew, than, a, processed, meat, and, it, smells, better, ., My, Labrador, is, finicky, and, she, appreciates, this, product, better, than,  , most, .]\n"
     ]
    }
   ],
   "source": [
    "print(tokens)"
   ]
  },
  {
   "cell_type": "code",
   "execution_count": 17,
   "id": "af67cabc",
   "metadata": {},
   "outputs": [],
   "source": [
    "tokens = [token.text for token in doc]"
   ]
  },
  {
   "cell_type": "code",
   "execution_count": 20,
   "id": "ca966b51",
   "metadata": {},
   "outputs": [
    {
     "name": "stdout",
     "output_type": "stream",
     "text": [
      "['I', 'have', 'bought', 'several', 'of', 'the', 'Vitality', 'canned', 'dog', 'food', 'products', 'and', 'have', 'found', 'them', 'all', 'to', 'be', 'of', 'good', 'quality', '.', 'The', 'product', 'looks', 'more', 'like', 'a', 'stew', 'than', 'a', 'processed', 'meat', 'and', 'it', 'smells', 'better', '.', 'My', 'Labrador', 'is', 'finicky', 'and', 'she', 'appreciates', 'this', 'product', 'better', 'than', ' ', 'most', '.']\n"
     ]
    }
   ],
   "source": [
    "print(tokens)"
   ]
  },
  {
   "cell_type": "markdown",
   "id": "9ba1c3bb",
   "metadata": {},
   "source": [
    "- ###### Lemmatization with spaCy"
   ]
  },
  {
   "cell_type": "code",
   "execution_count": 1,
   "id": "34967c81",
   "metadata": {},
   "outputs": [],
   "source": [
    "import spacy"
   ]
  },
  {
   "cell_type": "code",
   "execution_count": 2,
   "id": "2dc45a17",
   "metadata": {},
   "outputs": [],
   "source": [
    "nlp = spacy.load(\"en_core_web_sm\")"
   ]
  },
  {
   "cell_type": "code",
   "execution_count": 3,
   "id": "01f775ae",
   "metadata": {},
   "outputs": [],
   "source": [
    "text = \"I have bought several of the Vitality canned dog food products and have found them all to be of good quality. The product looks more like a stew than a processed meat and it smells better. My Labrador is finicky and she appreciates this product better than  most.\""
   ]
  },
  {
   "cell_type": "code",
   "execution_count": 4,
   "id": "a5499b9d",
   "metadata": {},
   "outputs": [],
   "source": [
    "doc = nlp(text)"
   ]
  },
  {
   "cell_type": "code",
   "execution_count": 5,
   "id": "96c50ac9",
   "metadata": {},
   "outputs": [],
   "source": [
    "tokens = [token.text for token in doc]"
   ]
  },
  {
   "cell_type": "code",
   "execution_count": 6,
   "id": "661d5b8d",
   "metadata": {},
   "outputs": [],
   "source": [
    "lemmas = [token.lemma_ for token in doc]"
   ]
  },
  {
   "cell_type": "code",
   "execution_count": 11,
   "id": "25b5c6d9",
   "metadata": {},
   "outputs": [
    {
     "name": "stdout",
     "output_type": "stream",
     "text": [
      "I  :  I\n",
      "have  :  have\n",
      "bought  :  buy\n",
      "several  :  several\n",
      "of  :  of\n",
      "the  :  the\n",
      "Vitality  :  Vitality\n",
      "canned  :  can\n",
      "dog  :  dog\n",
      "food  :  food\n",
      "products  :  product\n",
      "and  :  and\n",
      "have  :  have\n",
      "found  :  find\n",
      "them  :  they\n",
      "all  :  all\n",
      "to  :  to\n",
      "be  :  be\n",
      "of  :  of\n",
      "good  :  good\n",
      "quality  :  quality\n",
      ".  :  .\n",
      "The  :  the\n",
      "product  :  product\n",
      "looks  :  look\n",
      "more  :  more\n",
      "like  :  like\n",
      "a  :  a\n",
      "stew  :  stew\n",
      "than  :  than\n",
      "a  :  a\n",
      "processed  :  process\n",
      "meat  :  meat\n",
      "and  :  and\n",
      "it  :  it\n",
      "smells  :  smell\n",
      "better  :  well\n",
      ".  :  .\n",
      "My  :  my\n",
      "Labrador  :  Labrador\n",
      "is  :  be\n",
      "finicky  :  finicky\n",
      "and  :  and\n",
      "she  :  she\n",
      "appreciates  :  appreciate\n",
      "this  :  this\n",
      "product  :  product\n",
      "better  :  well\n",
      "than  :  than\n",
      "   :   \n",
      "most  :  most\n",
      ".  :  .\n"
     ]
    }
   ],
   "source": [
    "for token in range(len(doc)):\n",
    "    print(tokens[token], \" : \", lemmas[token])"
   ]
  },
  {
   "cell_type": "markdown",
   "id": "9bf060ac",
   "metadata": {},
   "source": [
    "- ###### Sentence segmentation with spaCy"
   ]
  },
  {
   "cell_type": "code",
   "execution_count": 34,
   "id": "5978c102",
   "metadata": {},
   "outputs": [],
   "source": [
    "import spacy"
   ]
  },
  {
   "cell_type": "code",
   "execution_count": 35,
   "id": "af84da49",
   "metadata": {},
   "outputs": [],
   "source": [
    "nlp = spacy.load(\"en_core_web_sm\")"
   ]
  },
  {
   "cell_type": "code",
   "execution_count": 36,
   "id": "1f6d99ac",
   "metadata": {},
   "outputs": [],
   "source": [
    "texts = ['I have bought several of the Vitality canned dog food products and have found them all to be of good quality. The product looks more like a stew than a processed meat and it smells better. My Labrador is finicky and she appreciates this product better than  most.', 'Product arrived labeled as Jumbo Salted Peanuts...the peanuts were actually small sized unsalted. Not sure if this was an error or if the vendor intended to represent the product as \"Jumbo\".', 'This is a confection that has been around a few centuries.  It is a light, pillowy citrus gelatin with nuts - in this case Filberts. And it is cut into tiny squares and then liberally coated with powdered sugar.  And it is a tiny mouthful of heaven.  Not too chewy, and very flavorful.  I highly recommend this yummy treat.  If you are familiar with the story of C.S. Lewis\\' \"The Lion, The Witch, and The Wardrobe\" - this is the treat that seduces Edmund into selling out his Brother and Sisters to the Witch.', 'If you are looking for the secret ingredient in Robitussin I believe I have found it.  I got this in addition to the Root Beer Extract I ordered (which was good) and made some cherry soda.  The flavor is very medicinal.', 'Great taffy at a great price.  There was a wide assortment of yummy taffy.  Delivery was very quick.  If your a taffy lover, this is a deal.', 'I got a wild hair for taffy and ordered this five pound bag. The taffy was all very enjoyable with many flavors: watermelon, root beer, melon, peppermint, grape, etc. My only complaint is there was a bit too much red/black licorice-flavored pieces (just not my particular favorites). Between me, my kids, and my husband, this lasted only two weeks! I would recommend this brand of taffy -- it was a delightful treat.', \"This saltwater taffy had great flavors and was very soft and chewy.  Each candy was individually wrapped well.  None of the candies were stuck together, which did happen in the expensive version, Fralinger's.  Would highly recommend this candy!  I served it at a beach-themed party and everyone loved it!\", 'This taffy is so good.  It is very soft and chewy.  The flavors are amazing.  I would definitely recommend you buying it.  Very satisfying!!', \"Right now I'm mostly just sprouting this so my cats can eat the grass. They love it. I rotate it around with Wheatgrass and Rye too\", 'This is a very healthy dog food. Good for their digestion. Also good for small puppies. My dog eats her required amount at every feeding.']"
   ]
  },
  {
   "cell_type": "code",
   "execution_count": 37,
   "id": "20140f99",
   "metadata": {},
   "outputs": [],
   "source": [
    "documents = [nlp(text) for text in texts]"
   ]
  },
  {
   "cell_type": "code",
   "execution_count": 38,
   "id": "cfb2821b",
   "metadata": {},
   "outputs": [],
   "source": [
    "sentences = []\n",
    "for doc in documents:\n",
    "    sentences.append([s for s in doc.sents])"
   ]
  },
  {
   "cell_type": "code",
   "execution_count": 40,
   "id": "31bcd8d9",
   "metadata": {},
   "outputs": [
    {
     "data": {
      "text/plain": [
       "[[I have bought several of the Vitality canned dog food products and have found them all to be of good quality.,\n",
       "  The product looks more like a stew than a processed meat and it smells better.,\n",
       "  My Labrador is finicky and she appreciates this product better than  most.],\n",
       " [Product arrived labeled as Jumbo Salted Peanuts...the peanuts were actually small sized unsalted.,\n",
       "  Not sure if this was an error or if the vendor intended to represent the product as \"Jumbo\".],\n",
       " [This is a confection that has been around a few centuries.  ,\n",
       "  It is a light, pillowy citrus gelatin with nuts - in this case Filberts.,\n",
       "  And it is cut into tiny squares and then liberally coated with powdered sugar.  ,\n",
       "  And it is a tiny mouthful of heaven.  ,\n",
       "  Not too chewy, and very flavorful.  ,\n",
       "  I highly recommend this yummy treat.  ,\n",
       "  If you are familiar with the story of C.S. Lewis' \"The Lion, The Witch, and The Wardrobe\" - this is the treat that seduces Edmund into selling out his Brother and Sisters to the Witch.],\n",
       " [If you are looking for the secret ingredient in Robitussin I believe I have found it.  ,\n",
       "  I got this in addition to the Root Beer Extract I ordered (which was good) and made some cherry soda.  ,\n",
       "  The flavor is very medicinal.],\n",
       " [Great taffy at a great price.  ,\n",
       "  There was a wide assortment of yummy taffy.  ,\n",
       "  Delivery was very quick.  ,\n",
       "  If your a taffy lover, this is a deal.],\n",
       " [I got a wild hair for taffy and ordered this five pound bag.,\n",
       "  The taffy was all very enjoyable with many flavors: watermelon, root beer, melon, peppermint, grape, etc.,\n",
       "  My only complaint is there was a bit too much red/black licorice-flavored pieces (just not my particular favorites).,\n",
       "  Between me, my kids, and my husband, this lasted only two weeks!,\n",
       "  I would recommend this brand of taffy -- it was a delightful treat.],\n",
       " [This saltwater taffy had great flavors and was very soft and chewy.  ,\n",
       "  Each candy was individually wrapped well.  ,\n",
       "  None of the candies were stuck together, which did happen in the expensive version, Fralinger's.  ,\n",
       "  Would highly recommend this candy!  ,\n",
       "  I served it at a beach-themed party and everyone loved it!],\n",
       " [This taffy is so good.  ,\n",
       "  It is very soft and chewy.  ,\n",
       "  The flavors are amazing.  ,\n",
       "  I would definitely recommend you buying it.  ,\n",
       "  Very satisfying!!],\n",
       " [Right now I'm mostly just sprouting this so my cats can eat the grass.,\n",
       "  They love it.,\n",
       "  I rotate it around with Wheatgrass and Rye too],\n",
       " [This is a very healthy dog food.,\n",
       "  Good for their digestion.,\n",
       "  Also good for small puppies.,\n",
       "  My dog eats her required amount at every feeding.]]"
      ]
     },
     "execution_count": 40,
     "metadata": {},
     "output_type": "execute_result"
    }
   ],
   "source": [
    "sentences"
   ]
  },
  {
   "cell_type": "markdown",
   "id": "f28ad333",
   "metadata": {},
   "source": [
    "- ###### Linguistic features in spaCy"
   ]
  },
  {
   "cell_type": "markdown",
   "id": "e68ce4a5",
   "metadata": {},
   "source": [
    "- ###### POS tagging with spaCy"
   ]
  },
  {
   "cell_type": "code",
   "execution_count": 1,
   "id": "e234b9d3",
   "metadata": {},
   "outputs": [],
   "source": [
    "import spacy"
   ]
  },
  {
   "cell_type": "code",
   "execution_count": 2,
   "id": "327fa324",
   "metadata": {},
   "outputs": [],
   "source": [
    "nlp = spacy.load(\"en_core_web_sm\")"
   ]
  },
  {
   "cell_type": "code",
   "execution_count": 3,
   "id": "2a088548",
   "metadata": {},
   "outputs": [],
   "source": [
    "texts = ['What is the arrival time in San francisco for the 7:55 AM flight leaving Washington?', 'Cheapest airfare from Tacoma to Orlando is 650 dollars.', 'Round trip fares from Pittsburgh to Philadelphia are under 1000 dollars!']"
   ]
  },
  {
   "cell_type": "code",
   "execution_count": 10,
   "id": "508aaa37",
   "metadata": {},
   "outputs": [],
   "source": [
    "documents = [nlp(text) for text in texts]"
   ]
  },
  {
   "cell_type": "code",
   "execution_count": 11,
   "id": "a0783939",
   "metadata": {},
   "outputs": [
    {
     "data": {
      "text/plain": [
       "[What is the arrival time in San francisco for the 7:55 AM flight leaving Washington?,\n",
       " Cheapest airfare from Tacoma to Orlando is 650 dollars.,\n",
       " Round trip fares from Pittsburgh to Philadelphia are under 1000 dollars!]"
      ]
     },
     "execution_count": 11,
     "metadata": {},
     "output_type": "execute_result"
    }
   ],
   "source": [
    "documents"
   ]
  },
  {
   "cell_type": "code",
   "execution_count": 13,
   "id": "d71c76ba",
   "metadata": {},
   "outputs": [
    {
     "name": "stdout",
     "output_type": "stream",
     "text": [
      "What is the arrival time in San francisco for the 7:55 AM flight leaving Washington?\n",
      "Cheapest airfare from Tacoma to Orlando is 650 dollars.\n",
      "Round trip fares from Pittsburgh to Philadelphia are under 1000 dollars!\n"
     ]
    }
   ],
   "source": [
    "for token in documents:\n",
    "    print(token)"
   ]
  },
  {
   "cell_type": "code",
   "execution_count": 16,
   "id": "90fb002b",
   "metadata": {},
   "outputs": [
    {
     "name": "stdout",
     "output_type": "stream",
     "text": [
      "What PRON\n",
      "is AUX\n",
      "the DET\n",
      "arrival NOUN\n",
      "time NOUN\n",
      "in ADP\n",
      "San PROPN\n",
      "francisco PROPN\n",
      "for ADP\n",
      "the DET\n",
      "7:55 NUM\n",
      "AM PROPN\n",
      "flight NOUN\n",
      "leaving VERB\n",
      "Washington PROPN\n",
      "? PUNCT\n",
      "Cheapest ADJ\n",
      "airfare NOUN\n",
      "from ADP\n",
      "Tacoma PROPN\n",
      "to ADP\n",
      "Orlando PROPN\n",
      "is AUX\n",
      "650 NUM\n",
      "dollars NOUN\n",
      ". PUNCT\n",
      "Round ADJ\n",
      "trip NOUN\n",
      "fares NOUN\n",
      "from ADP\n",
      "Pittsburgh PROPN\n",
      "to ADP\n",
      "Philadelphia PROPN\n",
      "are AUX\n",
      "under ADP\n",
      "1000 NUM\n",
      "dollars NOUN\n",
      "! PUNCT\n"
     ]
    }
   ],
   "source": [
    "for doc in documents:\n",
    "    for token in doc:\n",
    "        print(token, token.pos_)"
   ]
  },
  {
   "cell_type": "markdown",
   "id": "94dd84dc",
   "metadata": {},
   "source": [
    "- ###### NER with spaCy"
   ]
  },
  {
   "cell_type": "code",
   "execution_count": null,
   "id": "63ba8ec5",
   "metadata": {},
   "outputs": [],
   "source": []
  }
 ],
 "metadata": {
  "kernelspec": {
   "display_name": "Python 3 (ipykernel)",
   "language": "python",
   "name": "python3"
  },
  "language_info": {
   "codemirror_mode": {
    "name": "ipython",
    "version": 3
   },
   "file_extension": ".py",
   "mimetype": "text/x-python",
   "name": "python",
   "nbconvert_exporter": "python",
   "pygments_lexer": "ipython3",
   "version": "3.11.5"
  }
 },
 "nbformat": 4,
 "nbformat_minor": 5
}
