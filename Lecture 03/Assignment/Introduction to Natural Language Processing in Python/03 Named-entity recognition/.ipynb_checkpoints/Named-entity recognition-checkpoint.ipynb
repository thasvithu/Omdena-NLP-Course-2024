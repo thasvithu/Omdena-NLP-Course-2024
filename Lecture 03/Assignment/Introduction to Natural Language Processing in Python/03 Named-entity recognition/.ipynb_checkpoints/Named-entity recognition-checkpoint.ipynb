{
 "cells": [
  {
   "cell_type": "markdown",
   "id": "4b7d0e26",
   "metadata": {},
   "source": [
    "# Named-entity recognition\n",
    "- Named-entity recognition (NER) is a subtask of information extraction in natural language processing (NLP) that seeks to locate and classify named entities mentioned in unstructured text into predefined categories such as the names of persons, organizations, locations, expressions of times, quantities, monetary values, percentages, etc."
   ]
  },
  {
   "cell_type": "markdown",
   "id": "eb00cbcb",
   "metadata": {},
   "source": [
    "![q1.png](q1.png)"
   ]
  },
  {
   "cell_type": "code",
   "execution_count": 26,
   "id": "f5c5a913",
   "metadata": {},
   "outputs": [],
   "source": [
    "import nltk\n",
    "from nltk.tokenize import sent_tokenize, word_tokenize"
   ]
  },
  {
   "cell_type": "code",
   "execution_count": 27,
   "id": "a80f12b0",
   "metadata": {},
   "outputs": [],
   "source": [
    "article = \"\"\"\n",
    "Apple is looking at buying U.K. startup for $1 billion. \n",
    "San Francisco is the home of many tech startups. \n",
    "Elon Musk's company, Tesla, is based in California.\n",
    "The United Nations was established on 24 October 1945.\n",
    "Barack Obama was the 44th President of the United States.\n",
    "The Great Wall of China is one of the wonders of the world.\n",
    "Google, headquartered in Mountain View, announced a new AI project.\n",
    "Amazon was founded by Jeff Bezos in 1994.\n",
    "Microsoft's CEO, Satya Nadella, announced new investments in AI.\n",
    "New York City is known for its bustling Times Square.\n",
    "\"\"\""
   ]
  },
  {
   "cell_type": "code",
   "execution_count": 28,
   "id": "f3705ef5",
   "metadata": {},
   "outputs": [],
   "source": [
    "# Tokenize the article into sentences: sentences\n",
    "sentences = sent_tokenize(article)"
   ]
  },
  {
   "cell_type": "code",
   "execution_count": 29,
   "id": "7c4450f4",
   "metadata": {},
   "outputs": [],
   "source": [
    "# Tokenize each sentence into words: token_sentences\n",
    "token_sentences = [word_tokenize(sent) for sent in sentences]"
   ]
  },
  {
   "cell_type": "code",
   "execution_count": 30,
   "id": "9a1773a8",
   "metadata": {},
   "outputs": [],
   "source": [
    "# Tag each tokenized sentence into parts of speech: pos_sentences\n",
    "pos_sentences = [nltk.pos_tag(sent) for sent in token_sentences]"
   ]
  },
  {
   "cell_type": "code",
   "execution_count": 31,
   "id": "5fe445b5",
   "metadata": {},
   "outputs": [],
   "source": [
    "# Create the named entity chunks: chunked_sentences\n",
    "chunked_sentences = nltk.ne_chunk_sents(pos_sentences, binary=True)"
   ]
  },
  {
   "cell_type": "code",
   "execution_count": 32,
   "id": "15b96547",
   "metadata": {},
   "outputs": [
    {
     "name": "stdout",
     "output_type": "stream",
     "text": [
      "(NE Apple/NNP)\n",
      "(NE San/NNP Francisco/NNP)\n",
      "(NE Elon/NNP Musk/NNP)\n",
      "(NE Tesla/NNP)\n",
      "(NE California/NNP)\n",
      "(NE United/NNP Nations/NNP)\n",
      "(NE Barack/NNP Obama/NNP)\n",
      "(NE United/NNP States/NNPS)\n",
      "(NE Great/NNP Wall/NNP)\n",
      "(NE China/NNP)\n",
      "(NE Google/NNP)\n",
      "(NE Mountain/NNP View/NNP)\n",
      "(NE Amazon/NNP)\n",
      "(NE Jeff/NNP Bezos/NNP)\n",
      "(NE Microsoft/NNP)\n",
      "(NE Satya/NNP Nadella/NNP)\n",
      "(NE New/NNP York/NNP City/NNP)\n",
      "(NE Times/NNP Square/NNP)\n"
     ]
    }
   ],
   "source": [
    "# Test for stems of the tree with 'NE' tags\n",
    "for sent in chunked_sentences:\n",
    "    for chunk in sent:\n",
    "        if hasattr(chunk, \"label\") and chunk.label() == \"NE\":\n",
    "            print(chunk)"
   ]
  },
  {
   "cell_type": "markdown",
   "id": "7eac2621",
   "metadata": {},
   "source": [
    "![q2.png](q2.png)"
   ]
  },
  {
   "cell_type": "code",
   "execution_count": 34,
   "id": "21952274",
   "metadata": {},
   "outputs": [
    {
     "data": {
      "text/plain": [
       "defaultdict(int, {})"
      ]
     },
     "execution_count": 34,
     "metadata": {},
     "output_type": "execute_result"
    }
   ],
   "source": [
    "from collections import defaultdict\n",
    "\n",
    "# Create the defaultdict: ner_categories\n",
    "ner_categories = defaultdict(int)\n",
    "ner_categories"
   ]
  },
  {
   "cell_type": "code",
   "execution_count": 35,
   "id": "5c794330",
   "metadata": {},
   "outputs": [
    {
     "name": "stdout",
     "output_type": "stream",
     "text": [
      "GPE: 8\n",
      "PERSON: 10\n",
      "ORGANIZATION: 4\n"
     ]
    }
   ],
   "source": [
    "from collections import defaultdict\n",
    "import nltk\n",
    "from nltk.tokenize import sent_tokenize, word_tokenize\n",
    "\n",
    "# Sample article for testing\n",
    "article = \"\"\"\n",
    "Apple is looking at buying U.K. startup for $1 billion. \n",
    "San Francisco is the home of many tech startups. \n",
    "Elon Musk's company, Tesla, is based in California.\n",
    "The United Nations was established on 24 October 1945.\n",
    "Barack Obama was the 44th President of the United States.\n",
    "The Great Wall of China is one of the wonders of the world.\n",
    "Google, headquartered in Mountain View, announced a new AI project.\n",
    "Amazon was founded by Jeff Bezos in 1994.\n",
    "Microsoft's CEO, Satya Nadella, announced new investments in AI.\n",
    "New York City is known for its bustling Times Square.\n",
    "\"\"\"\n",
    "\n",
    "# Tokenize the article into sentences\n",
    "sentences = sent_tokenize(article)\n",
    "\n",
    "# Tokenize each sentence into words\n",
    "token_sentences = [word_tokenize(sent) for sent in sentences]\n",
    "\n",
    "# Tag each tokenized sentence into parts of speech\n",
    "pos_sentences = [nltk.pos_tag(sent) for sent in token_sentences]\n",
    "\n",
    "# Create the named entity chunks\n",
    "chunked_sentences = nltk.ne_chunk_sents(pos_sentences, binary=False)\n",
    "\n",
    "# Create the defaultdict: ner_categories\n",
    "ner_categories = defaultdict(int)\n",
    "\n",
    "# Count the named entity types\n",
    "for sent in chunked_sentences:\n",
    "    for chunk in sent:\n",
    "        if hasattr(chunk, \"label\"):\n",
    "            ner_categories[chunk.label()] += 1\n",
    "\n",
    "# Print the named entity categories and their counts\n",
    "for category, count in ner_categories.items():\n",
    "    print(f\"{category}: {count}\")"
   ]
  },
  {
   "cell_type": "markdown",
   "id": "84dac4b2",
   "metadata": {},
   "source": [
    "![q3.png](q3.png)"
   ]
  },
  {
   "cell_type": "code",
   "execution_count": 37,
   "id": "42eb6d44",
   "metadata": {},
   "outputs": [
    {
     "data": {
      "text/plain": [
       "[]"
      ]
     },
     "execution_count": 37,
     "metadata": {},
     "output_type": "execute_result"
    }
   ],
   "source": [
    "# Create the defaultdict: ner_categories\n",
    "ner_categories = defaultdict(int)\n",
    "\n",
    "# Create the nested for loop\n",
    "for sent in chunked_sentences:\n",
    "    for chunk in sent:\n",
    "        if hasattr(chunk, 'label'):\n",
    "            ner_categories[chunk.label()] += 1\n",
    "            \n",
    "# Create a list from the dictionary keys for the chart labels: labels\n",
    "labels = list(ner_categories.keys())\n",
    "labels"
   ]
  },
  {
   "cell_type": "code",
   "execution_count": 38,
   "id": "f83cd388",
   "metadata": {},
   "outputs": [
    {
     "data": {
      "image/png": "[encoded data removed]",
      "text/plain": [
       "<Figure size 1000x700 with 1 Axes>"
      ]
     },
     "metadata": {},
     "output_type": "display_data"
    }
   ],
   "source": [
    "from collections import defaultdict\n",
    "import nltk\n",
    "from nltk.tokenize import sent_tokenize, word_tokenize\n",
    "import matplotlib.pyplot as plt\n",
    "\n",
    "# Sample article for testing\n",
    "article = \"\"\"\n",
    "Apple is looking at buying U.K. startup for $1 billion. \n",
    "San Francisco is the home of many tech startups. \n",
    "Elon Musk's company, Tesla, is based in California.\n",
    "The United Nations was established on 24 October 1945.\n",
    "Barack Obama was the 44th President of the United States.\n",
    "The Great Wall of China is one of the wonders of the world.\n",
    "Google, headquartered in Mountain View, announced a new AI project.\n",
    "Amazon was founded by Jeff Bezos in 1994.\n",
    "Microsoft's CEO, Satya Nadella, announced new investments in AI.\n",
    "New York City is known for its bustling Times Square.\n",
    "\"\"\"\n",
    "\n",
    "# Tokenize the article into sentences\n",
    "sentences = sent_tokenize(article)\n",
    "\n",
    "# Tokenize each sentence into words\n",
    "token_sentences = [word_tokenize(sent) for sent in sentences]\n",
    "\n",
    "# Tag each tokenized sentence into parts of speech\n",
    "pos_sentences = [nltk.pos_tag(sent) for sent in token_sentences]\n",
    "\n",
    "# Create the named entity chunks\n",
    "chunked_sentences = nltk.ne_chunk_sents(pos_sentences, binary=False)\n",
    "\n",
    "# Create the defaultdict: ner_categories\n",
    "ner_categories = defaultdict(int)\n",
    "\n",
    "# Create the nested for loop\n",
    "for sent in chunked_sentences:\n",
    "    for chunk in sent:\n",
    "        if hasattr(chunk, 'label'):\n",
    "            ner_categories[chunk.label()] += 1\n",
    "\n",
    "# Create a list from the dictionary keys for the chart labels: labels\n",
    "labels = list(ner_categories.keys())\n",
    "\n",
    "# Get the values for the pie chart\n",
    "sizes = list(ner_categories.values())\n",
    "\n",
    "# Plotting the pie chart\n",
    "plt.figure(figsize=(10, 7))\n",
    "plt.pie(sizes, labels=labels, autopct='%1.1f%%', startangle=140)\n",
    "plt.axis('equal')  # Equal aspect ratio ensures that pie is drawn as a circle.\n",
    "plt.title(\"Diversity of Named Entity Types\")\n",
    "plt.show()\n"
   ]
  },
  {
   "cell_type": "markdown",
   "id": "0bc034ba",
   "metadata": {},
   "source": [
    "![q4.png](q4.png)"
   ]
  },
  {
   "cell_type": "code",
   "execution_count": 40,
   "id": "27b11be0",
   "metadata": {},
   "outputs": [
    {
     "data": {
      "image/png": "[encoded data removed]",
      "text/plain": [
       "<Figure size 1000x700 with 1 Axes>"
      ]
     },
     "metadata": {},
     "output_type": "display_data"
    }
   ],
   "source": [
    "from collections import defaultdict\n",
    "import nltk\n",
    "from nltk.tokenize import sent_tokenize, word_tokenize\n",
    "import matplotlib.pyplot as plt\n",
    "\n",
    "# Sample article for testing\n",
    "article = \"\"\"\n",
    "Apple is looking at buying U.K. startup for $1 billion. \n",
    "San Francisco is the home of many tech startups. \n",
    "Elon Musk's company, Tesla, is based in California.\n",
    "The United Nations was established on 24 October 1945.\n",
    "Barack Obama was the 44th President of the United States.\n",
    "The Great Wall of China is one of the wonders of the world.\n",
    "Google, headquartered in Mountain View, announced a new AI project.\n",
    "Amazon was founded by Jeff Bezos in 1994.\n",
    "Microsoft's CEO, Satya Nadella, announced new investments in AI.\n",
    "New York City is known for its bustling Times Square.\n",
    "\"\"\"\n",
    "\n",
    "# Tokenize the article into sentences\n",
    "sentences = sent_tokenize(article)\n",
    "\n",
    "# Tokenize each sentence into words\n",
    "token_sentences = [word_tokenize(sent) for sent in sentences]\n",
    "\n",
    "# Tag each tokenized sentence into parts of speech\n",
    "pos_sentences = [nltk.pos_tag(sent) for sent in token_sentences]\n",
    "\n",
    "# Create the named entity chunks\n",
    "chunked_sentences = nltk.ne_chunk_sents(pos_sentences, binary=False)\n",
    "\n",
    "# Create the defaultdict: ner_categories\n",
    "ner_categories = defaultdict(int)\n",
    "\n",
    "# Create the nested for loop\n",
    "for sent in chunked_sentences:\n",
    "    for chunk in sent:\n",
    "        if hasattr(chunk, 'label'):\n",
    "            ner_categories[chunk.label()] += 1\n",
    "\n",
    "# Create a list from the dictionary keys for the chart labels: labels\n",
    "labels = list(ner_categories.keys())\n",
    "\n",
    "# Create a list of the values: values\n",
    "values = [ner_categories.get(v) for v in labels]\n",
    "\n",
    "# Create the pie chart\n",
    "plt.figure(figsize=(10, 7))\n",
    "plt.pie(values, labels=labels, autopct='%1.1f%%', startangle=140)\n",
    "\n",
    "# Display the chart\n",
    "plt.title(\"Diversity of Named Entity Types\")\n",
    "plt.axis('equal')  # Equal aspect ratio ensures that pie is drawn as a circle.\n",
    "plt.show()\n"
   ]
  },
  {
   "cell_type": "markdown",
   "id": "cedf873c",
   "metadata": {},
   "source": [
    "# Introduction to SpaCy\n",
    "- SpaCy is an open-source natural language processing (NLP) library written in Python. "
   ]
  },
  {
   "cell_type": "code",
   "execution_count": 43,
   "id": "bb611d5f",
   "metadata": {},
   "outputs": [],
   "source": [
    "import spacy"
   ]
  },
  {
   "cell_type": "code",
   "execution_count": 46,
   "id": "a20607db",
   "metadata": {},
   "outputs": [],
   "source": [
    "# Instantiate the English model: nlp\n",
    "nlp = spacy.load('en_core_web_sm', disable=['tagger', 'parser', 'matcher'])"
   ]
  },
  {
   "cell_type": "code",
   "execution_count": 47,
   "id": "8697c947",
   "metadata": {},
   "outputs": [
    {
     "name": "stderr",
     "output_type": "stream",
     "text": [
      "C:\\Users\\Admin\\AppData\\Roaming\\Python\\Python311\\site-packages\\spacy\\pipeline\\lemmatizer.py:211: UserWarning: [W108] The rule-based lemmatizer did not find POS annotation for one or more tokens. Check that your pipeline includes components that assign token.pos, typically 'tagger'+'attribute_ruler' or 'morphologizer'.\n",
      "  warnings.warn(Warnings.W108)\n"
     ]
    }
   ],
   "source": [
    "# Create a new document: doc\n",
    "doc = nlp(article)"
   ]
  },
  {
   "cell_type": "code",
   "execution_count": 49,
   "id": "3a916a31",
   "metadata": {},
   "outputs": [
    {
     "name": "stdout",
     "output_type": "stream",
     "text": [
      "ORG Apple\n",
      "GPE U.K.\n",
      "MONEY $1 billion\n",
      "GPE San Francisco\n",
      "PERSON Elon Musk's\n",
      "ORG Tesla\n",
      "GPE California\n",
      "ORG The United Nations\n",
      "DATE 24 October 1945\n",
      "PERSON Barack Obama\n",
      "ORDINAL 44th\n",
      "GPE the United States\n",
      "WORK_OF_ART The Great Wall of China\n",
      "ORG Google\n",
      "GPE Mountain View\n",
      "ORG AI\n",
      "ORG Amazon\n",
      "PERSON Jeff Bezos\n",
      "DATE 1994\n",
      "ORG Microsoft\n",
      "PERSON Satya Nadella\n",
      "GPE AI\n",
      "GPE New York City\n",
      "FAC Times Square\n"
     ]
    }
   ],
   "source": [
    "# Print all of the found entities and their labels\n",
    "for ent in doc.ents:\n",
    "    print(ent.label_, ent.text)"
   ]
  },
  {
   "cell_type": "markdown",
   "id": "5519e42a",
   "metadata": {},
   "source": [
    "![q5.png](q5.png)"
   ]
  },
  {
   "cell_type": "markdown",
   "id": "45a21a8a",
   "metadata": {},
   "source": [
    "# Multilingual NER with polyglot\n",
    "- Polyglot is a natural language processing library that provides support for text analysis in multiple languages. \n",
    "- It offers functionalities such as tokenization, part-of-speech tagging, named entity recognition, sentiment analysis, and language detection"
   ]
  },
  {
   "cell_type": "markdown",
   "id": "5f69cf14",
   "metadata": {},
   "source": [
    "![q6.png](q6.png)"
   ]
  },
  {
   "cell_type": "code",
   "execution_count": 5,
   "id": "165b38ef",
   "metadata": {},
   "outputs": [
    {
     "ename": "ModuleNotFoundError",
     "evalue": "No module named 'icu'",
     "output_type": "error",
     "traceback": [
      "\u001b[1;31m---------------------------------------------------------------------------\u001b[0m",
      "\u001b[1;31mModuleNotFoundError\u001b[0m                       Traceback (most recent call last)",
      "Cell \u001b[1;32mIn[5], line 1\u001b[0m\n\u001b[1;32m----> 1\u001b[0m \u001b[38;5;28;01mfrom\u001b[39;00m \u001b[38;5;21;01mpolyglot\u001b[39;00m\u001b[38;5;21;01m.\u001b[39;00m\u001b[38;5;21;01mtext\u001b[39;00m \u001b[38;5;28;01mimport\u001b[39;00m Text\n",
      "File \u001b[1;32m~\\AppData\\Roaming\\Python\\Python311\\site-packages\\polyglot-16.7.4-py3.11.egg\\polyglot\\text.py:11\u001b[0m\n\u001b[0;32m      8\u001b[0m \u001b[38;5;28;01mimport\u001b[39;00m \u001b[38;5;21;01mnumpy\u001b[39;00m \u001b[38;5;28;01mas\u001b[39;00m \u001b[38;5;21;01mnp\u001b[39;00m\n\u001b[0;32m     10\u001b[0m \u001b[38;5;28;01mfrom\u001b[39;00m \u001b[38;5;21;01mpolyglot\u001b[39;00m\u001b[38;5;21;01m.\u001b[39;00m\u001b[38;5;21;01mbase\u001b[39;00m \u001b[38;5;28;01mimport\u001b[39;00m Sequence, TextFile, TextFiles\n\u001b[1;32m---> 11\u001b[0m \u001b[38;5;28;01mfrom\u001b[39;00m \u001b[38;5;21;01mpolyglot\u001b[39;00m\u001b[38;5;21;01m.\u001b[39;00m\u001b[38;5;21;01mdetect\u001b[39;00m \u001b[38;5;28;01mimport\u001b[39;00m Detector, Language\n\u001b[0;32m     12\u001b[0m \u001b[38;5;28;01mfrom\u001b[39;00m \u001b[38;5;21;01mpolyglot\u001b[39;00m\u001b[38;5;21;01m.\u001b[39;00m\u001b[38;5;21;01mdecorators\u001b[39;00m \u001b[38;5;28;01mimport\u001b[39;00m cached_property\n\u001b[0;32m     13\u001b[0m \u001b[38;5;28;01mfrom\u001b[39;00m \u001b[38;5;21;01mpolyglot\u001b[39;00m\u001b[38;5;21;01m.\u001b[39;00m\u001b[38;5;21;01mdownloader\u001b[39;00m \u001b[38;5;28;01mimport\u001b[39;00m Downloader\n",
      "File \u001b[1;32m~\\AppData\\Roaming\\Python\\Python311\\site-packages\\polyglot-16.7.4-py3.11.egg\\polyglot\\detect\\__init__.py:1\u001b[0m\n\u001b[1;32m----> 1\u001b[0m \u001b[38;5;28;01mfrom\u001b[39;00m \u001b[38;5;21;01m.\u001b[39;00m\u001b[38;5;21;01mbase\u001b[39;00m \u001b[38;5;28;01mimport\u001b[39;00m Detector, Language\n\u001b[0;32m      3\u001b[0m __all__ \u001b[38;5;241m=\u001b[39m [\u001b[38;5;124m'\u001b[39m\u001b[38;5;124mDetector\u001b[39m\u001b[38;5;124m'\u001b[39m, \u001b[38;5;124m'\u001b[39m\u001b[38;5;124mLanguage\u001b[39m\u001b[38;5;124m'\u001b[39m]\n",
      "File \u001b[1;32m~\\AppData\\Roaming\\Python\\Python311\\site-packages\\polyglot-16.7.4-py3.11.egg\\polyglot\\detect\\base.py:11\u001b[0m\n\u001b[0;32m      5\u001b[0m \u001b[38;5;124;03m\"\"\"Detecting languages\"\"\"\u001b[39;00m\n\u001b[0;32m      8\u001b[0m \u001b[38;5;28;01mimport\u001b[39;00m \u001b[38;5;21;01mlogging\u001b[39;00m\n\u001b[1;32m---> 11\u001b[0m \u001b[38;5;28;01mfrom\u001b[39;00m \u001b[38;5;21;01micu\u001b[39;00m \u001b[38;5;28;01mimport\u001b[39;00m Locale\n\u001b[0;32m     12\u001b[0m \u001b[38;5;28;01mimport\u001b[39;00m \u001b[38;5;21;01mpycld2\u001b[39;00m \u001b[38;5;28;01mas\u001b[39;00m \u001b[38;5;21;01mcld2\u001b[39;00m\n\u001b[0;32m     14\u001b[0m logger \u001b[38;5;241m=\u001b[39m logging\u001b[38;5;241m.\u001b[39mgetLogger(\u001b[38;5;18m__name__\u001b[39m)\n",
      "\u001b[1;31mModuleNotFoundError\u001b[0m: No module named 'icu'"
     ]
    }
   ],
   "source": [
    "from polyglot.text import Text"
   ]
  },
  {
   "cell_type": "markdown",
   "id": "40518c34",
   "metadata": {},
   "source": [
    "![q7.png](q7.png)"
   ]
  },
  {
   "cell_type": "code",
   "execution_count": 6,
   "id": "aeb530f6",
   "metadata": {},
   "outputs": [
    {
     "ename": "NameError",
     "evalue": "name 'txt' is not defined",
     "output_type": "error",
     "traceback": [
      "\u001b[1;31m---------------------------------------------------------------------------\u001b[0m",
      "\u001b[1;31mNameError\u001b[0m                                 Traceback (most recent call last)",
      "Cell \u001b[1;32mIn[6], line 2\u001b[0m\n\u001b[0;32m      1\u001b[0m \u001b[38;5;66;03m# Create the list of tuples: entities\u001b[39;00m\n\u001b[1;32m----> 2\u001b[0m entities \u001b[38;5;241m=\u001b[39m [(ent\u001b[38;5;241m.\u001b[39mtag, \u001b[38;5;124m'\u001b[39m\u001b[38;5;124m \u001b[39m\u001b[38;5;124m'\u001b[39m\u001b[38;5;241m.\u001b[39mjoin(ent)) \u001b[38;5;28;01mfor\u001b[39;00m ent \u001b[38;5;129;01min\u001b[39;00m txt\u001b[38;5;241m.\u001b[39mentities]\n\u001b[0;32m      4\u001b[0m \u001b[38;5;66;03m# Print entities\u001b[39;00m\n\u001b[0;32m      5\u001b[0m \u001b[38;5;28mprint\u001b[39m(entities)\n",
      "\u001b[1;31mNameError\u001b[0m: name 'txt' is not defined"
     ]
    }
   ],
   "source": [
    "# Create the list of tuples: entities\n",
    "entities = [(ent.tag, ' '.join(ent)) for ent in txt.entities]\n",
    "\n",
    "# Print entities\n",
    "print(entities)\n"
   ]
  },
  {
   "cell_type": "markdown",
   "id": "8ffe43c0",
   "metadata": {},
   "source": [
    "![q8.png](q8.png)"
   ]
  },
  {
   "cell_type": "code",
   "execution_count": 7,
   "id": "0c61b4bc",
   "metadata": {},
   "outputs": [
    {
     "ename": "NameError",
     "evalue": "name 'txt' is not defined",
     "output_type": "error",
     "traceback": [
      "\u001b[1;31m---------------------------------------------------------------------------\u001b[0m",
      "\u001b[1;31mNameError\u001b[0m                                 Traceback (most recent call last)",
      "Cell \u001b[1;32mIn[7], line 5\u001b[0m\n\u001b[0;32m      2\u001b[0m count \u001b[38;5;241m=\u001b[39m \u001b[38;5;241m0\u001b[39m\n\u001b[0;32m      4\u001b[0m \u001b[38;5;66;03m# Iterate over all the entities\u001b[39;00m\n\u001b[1;32m----> 5\u001b[0m \u001b[38;5;28;01mfor\u001b[39;00m ent \u001b[38;5;129;01min\u001b[39;00m txt\u001b[38;5;241m.\u001b[39mentities:\n\u001b[0;32m      6\u001b[0m     \u001b[38;5;66;03m# Check whether the entity contains 'Márquez' or 'Gabo'\u001b[39;00m\n\u001b[0;32m      7\u001b[0m     \u001b[38;5;28;01mif\u001b[39;00m \u001b[38;5;124m'\u001b[39m\u001b[38;5;124mMárquez\u001b[39m\u001b[38;5;124m'\u001b[39m \u001b[38;5;129;01min\u001b[39;00m ent \u001b[38;5;129;01mor\u001b[39;00m \u001b[38;5;124m'\u001b[39m\u001b[38;5;124mGabo\u001b[39m\u001b[38;5;124m'\u001b[39m \u001b[38;5;129;01min\u001b[39;00m ent:\n\u001b[0;32m      8\u001b[0m         \u001b[38;5;66;03m# Increment count\u001b[39;00m\n\u001b[0;32m      9\u001b[0m         count \u001b[38;5;241m+\u001b[39m\u001b[38;5;241m=\u001b[39m \u001b[38;5;241m1\u001b[39m\n",
      "\u001b[1;31mNameError\u001b[0m: name 'txt' is not defined"
     ]
    }
   ],
   "source": [
    "# Initialize the count variable: count\n",
    "count = 0\n",
    "\n",
    "# Iterate over all the entities\n",
    "for ent in txt.entities:\n",
    "    # Check whether the entity contains 'Márquez' or 'Gabo'\n",
    "    if 'Márquez' in ent or 'Gabo' in ent:\n",
    "        # Increment count\n",
    "        count += 1\n",
    "\n",
    "# Print count\n",
    "print(count)\n",
    "\n",
    "# Calculate the percentage of entities that refer to \"Gabo\": percentage\n",
    "percentage = count / len(txt.entities)\n",
    "print(percentage)"
   ]
  },
  {
   "cell_type": "code",
   "execution_count": null,
   "id": "f573beb0",
   "metadata": {},
   "outputs": [],
   "source": []
  }
 ],
 "metadata": {
  "kernelspec": {
   "display_name": "Python 3 (ipykernel)",
   "language": "python",
   "name": "python3"
  },
  "language_info": {
   "codemirror_mode": {
    "name": "ipython",
    "version": 3
   },
   "file_extension": ".py",
   "mimetype": "text/x-python",
   "name": "python",
   "nbconvert_exporter": "python",
   "pygments_lexer": "ipython3",
   "version": "3.11.5"
  }
 },
 "nbformat": 4,
 "nbformat_minor": 5
}
