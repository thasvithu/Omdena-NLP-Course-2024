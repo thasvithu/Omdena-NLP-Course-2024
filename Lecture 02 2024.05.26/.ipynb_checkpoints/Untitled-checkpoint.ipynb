{
 "cells": [
  {
   "cell_type": "markdown",
   "id": "6f7a96b1",
   "metadata": {},
   "source": [
    "#### Write 5 Sentance display Matrix vector along with Vocabulary List?"
   ]
  },
  {
   "cell_type": "code",
   "execution_count": 3,
   "id": "85f2e88a",
   "metadata": {},
   "outputs": [],
   "source": [
    "from sklearn.feature_extraction.text import CountVectorizer"
   ]
  },
  {
   "cell_type": "code",
   "execution_count": 4,
   "id": "988af9d5",
   "metadata": {},
   "outputs": [],
   "source": [
    "sentences = [\n",
    "    \"The cat sat on the mat.\",\n",
    "    \"The dog played with the ball.\",\n",
    "    \"I love to read books.\",\n",
    "    \"She enjoys listening to music.\",\n",
    "    \"We go for a walk in the park.\"\n",
    "]"
   ]
  },
  {
   "cell_type": "code",
   "execution_count": 5,
   "id": "cbf21fbf",
   "metadata": {},
   "outputs": [],
   "source": [
    "vectorizer = CountVectorizer()"
   ]
  },
  {
   "cell_type": "code",
   "execution_count": 7,
   "id": "ab3f6bda",
   "metadata": {},
   "outputs": [],
   "source": [
    "bow_matrix = vectorizer.fit_transform(sentences)"
   ]
  },
  {
   "cell_type": "code",
   "execution_count": 9,
   "id": "5751dd71",
   "metadata": {},
   "outputs": [
    {
     "name": "stdout",
     "output_type": "stream",
     "text": [
      "Matrix vector\n",
      "[[0 0 1 0 0 0 0 0 0 0 1 0 1 0 0 0 1 0 2 0 0 0 0]\n",
      " [1 0 0 1 0 0 0 0 0 0 0 0 0 0 1 0 0 0 2 0 0 0 1]\n",
      " [0 1 0 0 0 0 0 0 0 1 0 0 0 0 0 1 0 0 0 1 0 0 0]\n",
      " [0 0 0 0 1 0 0 0 1 0 0 1 0 0 0 0 0 1 0 1 0 0 0]\n",
      " [0 0 0 0 0 1 1 1 0 0 0 0 0 1 0 0 0 0 1 0 1 1 0]]\n"
     ]
    }
   ],
   "source": [
    "print(\"Matrix vector\")\n",
    "print(bow_matrix.toarray())                                   "
   ]
  },
  {
   "cell_type": "markdown",
   "id": "81258b5d",
   "metadata": {},
   "source": [
    "#### Diaplay Vocabulary List"
   ]
  },
  {
   "cell_type": "code",
   "execution_count": 10,
   "id": "94ccd9e4",
   "metadata": {},
   "outputs": [
    {
     "name": "stdout",
     "output_type": "stream",
     "text": [
      "\n",
      "Vocabulary:\n",
      "['ball' 'books' 'cat' 'dog' 'enjoys' 'for' 'go' 'in' 'listening' 'love'\n",
      " 'mat' 'music' 'on' 'park' 'played' 'read' 'sat' 'she' 'the' 'to' 'walk'\n",
      " 'we' 'with']\n"
     ]
    }
   ],
   "source": [
    "vocab = vectorizer.get_feature_names_out()\n",
    "print(\"\\nVocabulary:\")\n",
    "print(vocab)"
   ]
  },
  {
   "cell_type": "code",
   "execution_count": 12,
   "id": "f7e6503f",
   "metadata": {},
   "outputs": [
    {
     "name": "stdout",
     "output_type": "stream",
     "text": [
      "TF-IDF Matrix:\n",
      "[[0.         0.         0.         0.34101521 0.         0.\n",
      "  0.44839402 0.44839402 0.         0.44839402 0.52965746 0.        ]\n",
      " [0.         0.         0.44839402 0.         0.34101521 0.\n",
      "  0.         0.         0.44839402 0.         0.52965746 0.44839402]\n",
      " [0.42439575 0.42439575 0.         0.32276391 0.32276391 0.42439575\n",
      "  0.         0.         0.         0.         0.50130994 0.        ]]\n"
     ]
    }
   ],
   "source": [
    "from sklearn.feature_extraction.text import CountVectorizer\n",
    "from sklearn.feature_extraction.text import TfidfTransformer\n",
    "\n",
    "corpus = [\n",
    "    'The cat sat on the mat.',\n",
    "    'The dog played with the ball.',\n",
    "    'The cat and the dog are friends.'\n",
    "]\n",
    "\n",
    "vectorizer = CountVectorizer()\n",
    "\n",
    "bow_matrix = vectorizer.fit_transform(corpus)\n",
    "\n",
    "\n",
    "tfidf_transformer = TfidfTransformer()\n",
    "\n",
    "\n",
    "tfidf_matrix = tfidf_transformer.fit_transform(bow_matrix)\n",
    "\n",
    "print(\"TF-IDF Matrix:\")\n",
    "print(tfidf_matrix.toarray())\n"
   ]
  },
  {
   "cell_type": "code",
   "execution_count": null,
   "id": "3a2486bd",
   "metadata": {},
   "outputs": [],
   "source": []
  }
 ],
 "metadata": {
  "kernelspec": {
   "display_name": "Python 3 (ipykernel)",
   "language": "python",
   "name": "python3"
  },
  "language_info": {
   "codemirror_mode": {
    "name": "ipython",
    "version": 3
   },
   "file_extension": ".py",
   "mimetype": "text/x-python",
   "name": "python",
   "nbconvert_exporter": "python",
   "pygments_lexer": "ipython3",
   "version": "3.11.5"
  }
 },
 "nbformat": 4,
 "nbformat_minor": 5
}
