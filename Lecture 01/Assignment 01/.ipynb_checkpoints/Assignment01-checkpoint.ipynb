{
 "cells": [
  {
   "cell_type": "markdown",
   "id": "2a132b3c",
   "metadata": {},
   "source": [
    "# Assignment 01 - 2024.05.19\n",
    " \n",
    " \n",
    " \n",
    "Write 5-10 sentances and apply tokenization, Bag of words, and Vocabulary\n",
    "\n",
    "Print the results with Matrix and Vocabulary."
   ]
  },
  {
   "cell_type": "markdown",
   "id": "793eec7d",
   "metadata": {},
   "source": [
    "### Word Tokenization"
   ]
  },
  {
   "cell_type": "code",
   "execution_count": 1,
   "id": "f80472ca",
   "metadata": {},
   "outputs": [],
   "source": [
    "from tensorflow.keras.preprocessing.text import Tokenizer"
   ]
  },
  {
   "cell_type": "code",
   "execution_count": 15,
   "id": "cb276bfb",
   "metadata": {},
   "outputs": [],
   "source": [
    "sentences = [\n",
    "    'I love natural language processing.',\n",
    "    'Tokenization is an essential step in NLP.',\n",
    "    'Bag of words is a simple technique for text representation.',\n",
    "    'Vocabulary creation is important in NLP tasks.',\n",
    "    'Machine learning models can learn from text data.'\n",
    "]"
   ]
  },
  {
   "cell_type": "code",
   "execution_count": 16,
   "id": "4aae74fd",
   "metadata": {},
   "outputs": [
    {
     "name": "stdout",
     "output_type": "stream",
     "text": [
      "{'is': 1, 'in': 2, 'nlp': 3, 'text': 4, 'i': 5, 'love': 6, 'natural': 7, 'language': 8, 'processing': 9, 'tokenization': 10, 'an': 11, 'essential': 12, 'step': 13, 'bag': 14, 'of': 15, 'words': 16, 'a': 17, 'simple': 18, 'technique': 19, 'for': 20, 'representation': 21, 'vocabulary': 22, 'creation': 23, 'important': 24, 'tasks': 25, 'machine': 26, 'learning': 27, 'models': 28, 'can': 29, 'learn': 30, 'from': 31, 'data': 32}\n"
     ]
    }
   ],
   "source": [
    "tokenizer = Tokenizer(num_words = 100)\n",
    "tokenizer.fit_on_texts(sentences)\n",
    "word_index = tokenizer.word_index\n",
    "print(word_index)"
   ]
  },
  {
   "cell_type": "markdown",
   "id": "2c7c12ed",
   "metadata": {},
   "source": [
    "### Letter Tokenization"
   ]
  },
  {
   "cell_type": "code",
   "execution_count": 4,
   "id": "b8659877",
   "metadata": {},
   "outputs": [
    {
     "name": "stdout",
     "output_type": "stream",
     "text": [
      "{' ': 1, 'n': 2, 'a': 3, 'e': 4, 'i': 5, 't': 6, 's': 7, 'o': 8, 'r': 9, 'l': 10, 'p': 11, 'c': 12, 'g': 13, '.': 14, 'm': 15, 'u': 16, 'f': 17, 'd': 18, 'v': 19, 'k': 20, 'b': 21, 'h': 22, 'x': 23, 'z': 24, 'w': 25, 'q': 26, 'y': 27}\n"
     ]
    }
   ],
   "source": [
    "letters = [list(sentence.lower()) for sentence in sentences]\n",
    "tokenizer = Tokenizer(char_level=True)\n",
    "tokenizer.fit_on_texts(letters)\n",
    "char_index = tokenizer.word_index\n",
    "print(char_index)"
   ]
  },
  {
   "cell_type": "markdown",
   "id": "2d6ac1c5",
   "metadata": {},
   "source": [
    "### Bag of words"
   ]
  },
  {
   "cell_type": "code",
   "execution_count": 5,
   "id": "6406f97f",
   "metadata": {},
   "outputs": [],
   "source": [
    "from sklearn.feature_extraction.text import CountVectorizer"
   ]
  },
  {
   "cell_type": "code",
   "execution_count": 6,
   "id": "a8d3b556",
   "metadata": {},
   "outputs": [],
   "source": [
    "corpus = [\n",
    "    'I love natural language processing.',\n",
    "    'Tokenization is an essential step in NLP.',\n",
    "    'Bag of words is a simple technique for text representation.',\n",
    "    'Vocabulary creation is important in NLP tasks.',\n",
    "    'Machine learning models can learn from text data.'\n",
    "]"
   ]
  },
  {
   "cell_type": "code",
   "execution_count": 7,
   "id": "4c004fe7",
   "metadata": {},
   "outputs": [
    {
     "name": "stdout",
     "output_type": "stream",
     "text": [
      "Bag of Words Matrix:\n",
      "[[0 0 0 0 0 0 0 0 0 0 0 1 0 0 1 0 0 1 0 0 1 0 0 0 0 0 0 0 0 0]\n",
      " [1 0 0 0 0 1 0 0 0 1 1 0 0 0 0 0 0 0 1 0 0 0 0 1 0 0 0 1 0 0]\n",
      " [0 1 0 0 0 0 1 0 0 0 1 0 0 0 0 0 0 0 0 1 0 1 1 0 0 1 1 0 0 1]\n",
      " [0 0 0 1 0 0 0 0 1 1 1 0 0 0 0 0 0 0 1 0 0 0 0 0 1 0 0 0 1 0]\n",
      " [0 0 1 0 1 0 0 1 0 0 0 0 1 1 0 1 1 0 0 0 0 0 0 0 0 0 1 0 0 0]]\n"
     ]
    }
   ],
   "source": [
    "vectorizer = CountVectorizer()\n",
    "bow_matrix = vectorizer.fit_transform(corpus)\n",
    "print(\"Bag of Words Matrix:\")\n",
    "print(bow_matrix.toarray())                                   "
   ]
  },
  {
   "cell_type": "markdown",
   "id": "d4824898",
   "metadata": {},
   "source": [
    "### Vocabulary"
   ]
  },
  {
   "cell_type": "code",
   "execution_count": 8,
   "id": "b37cc6ec",
   "metadata": {},
   "outputs": [
    {
     "name": "stdout",
     "output_type": "stream",
     "text": [
      "\n",
      "Vocabulary:\n",
      "['an' 'bag' 'can' 'creation' 'data' 'essential' 'for' 'from' 'important'\n",
      " 'in' 'is' 'language' 'learn' 'learning' 'love' 'machine' 'models'\n",
      " 'natural' 'nlp' 'of' 'processing' 'representation' 'simple' 'step'\n",
      " 'tasks' 'technique' 'text' 'tokenization' 'vocabulary' 'words']\n"
     ]
    }
   ],
   "source": [
    "vocab = vectorizer.get_feature_names_out()\n",
    "print(\"\\nVocabulary:\")\n",
    "print(vocab)"
   ]
  },
  {
   "cell_type": "code",
   "execution_count": null,
   "id": "9b14f0ed",
   "metadata": {},
   "outputs": [],
   "source": []
  }
 ],
 "metadata": {
  "kernelspec": {
   "display_name": "Python 3 (ipykernel)",
   "language": "python",
   "name": "python3"
  },
  "language_info": {
   "codemirror_mode": {
    "name": "ipython",
    "version": 3
   },
   "file_extension": ".py",
   "mimetype": "text/x-python",
   "name": "python",
   "nbconvert_exporter": "python",
   "pygments_lexer": "ipython3",
   "version": "3.11.5"
  }
 },
 "nbformat": 4,
 "nbformat_minor": 5
}
